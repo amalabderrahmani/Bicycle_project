{
 "cells": [
  {
   "cell_type": "markdown",
   "metadata": {},
   "source": [
    "### Imports"
   ]
  },
  {
   "cell_type": "code",
   "execution_count": 1,
   "metadata": {},
   "outputs": [],
   "source": [
    "import pandas as pd\n",
    "import json\n",
    "import seaborn as sns\n",
    "import matplotlib.pyplot as plt\n",
    "import re"
   ]
  },
  {
   "cell_type": "markdown",
   "metadata": {},
   "source": [
    "### Dependencies\n",
    "\n",
    "    For this to work, change the filename and filename1 to the paths of anonymized_project.json and references.json on your local machine"
   ]
  },
  {
   "cell_type": "code",
   "execution_count": 2,
   "metadata": {},
   "outputs": [],
   "source": [
    "filename = \"./[EXT] anonymized_bicycle 1.1/anonymized_project.json\"\n",
    "filename1 = \"./[EXT] anonymized_bicycle 1.1/references.json\""
   ]
  },
  {
   "cell_type": "markdown",
   "metadata": {},
   "source": [
    "### Normalizing and flattening the json files"
   ]
  },
  {
   "cell_type": "code",
   "execution_count": 3,
   "metadata": {},
   "outputs": [],
   "source": [
    "# Opening and loading the json files. \"data\" corresponds to \"filename\" and \"anonymized_project.json\"\n",
    "# \"data1\" corresponds to \"filename1\" and \"references.json\"\n",
    "\n",
    "try:\n",
    "    with open(filename, \"r\") as f:\n",
    "        data = json.loads(f.read())   \n",
    "except:\n",
    "    raise Exception(f\"Reading {filename} file encountered an error\")\n",
    "    \n",
    "try:\n",
    "      with open(filename1, \"r\") as f1:\n",
    "            data1 = json.loads(f1.read())\n",
    "except:\n",
    "    raise Exception(f\"Reading {filename1} file encountered an error\")\n"
   ]
  },
  {
   "cell_type": "code",
   "execution_count": 4,
   "metadata": {},
   "outputs": [
    {
     "data": {
      "text/html": [
       "<div>\n",
       "<style scoped>\n",
       "    .dataframe tbody tr th:only-of-type {\n",
       "        vertical-align: middle;\n",
       "    }\n",
       "\n",
       "    .dataframe tbody tr th {\n",
       "        vertical-align: top;\n",
       "    }\n",
       "\n",
       "    .dataframe thead th {\n",
       "        text-align: right;\n",
       "    }\n",
       "</style>\n",
       "<table border=\"1\" class=\"dataframe\">\n",
       "  <thead>\n",
       "    <tr style=\"text-align: right;\">\n",
       "      <th></th>\n",
       "      <th>image</th>\n",
       "      <th>answer</th>\n",
       "    </tr>\n",
       "  </thead>\n",
       "  <tbody>\n",
       "    <tr>\n",
       "      <th>0</th>\n",
       "      <td>img_4686</td>\n",
       "      <td>no</td>\n",
       "    </tr>\n",
       "    <tr>\n",
       "      <th>1</th>\n",
       "      <td>img_8607</td>\n",
       "      <td>yes</td>\n",
       "    </tr>\n",
       "    <tr>\n",
       "      <th>2</th>\n",
       "      <td>img_5541</td>\n",
       "      <td>no</td>\n",
       "    </tr>\n",
       "  </tbody>\n",
       "</table>\n",
       "</div>"
      ],
      "text/plain": [
       "      image answer\n",
       "0  img_4686     no\n",
       "1  img_8607    yes\n",
       "2  img_5541     no"
      ]
     },
     "execution_count": 4,
     "metadata": {},
     "output_type": "execute_result"
    }
   ],
   "source": [
    "# Getting the reference dataframe df1\n",
    "df1 = pd.DataFrame(data1.items(),  columns=['image', 'answer'])\n",
    "\n",
    "\"\"\"\n",
    "This function return the value of a dictionary\n",
    "\"\"\"\n",
    "def get_bool(d):\n",
    "    for k,v in d.items():\n",
    "        return(v)\n",
    "    \n",
    "df1[\"answer\"] = df1['answer'].apply(get_bool)\n",
    "df1[\"answer\"] = df1['answer'].map({False: \"no\", True: \"yes\"})\n",
    "df1.head(3)"
   ]
  },
  {
   "cell_type": "code",
   "execution_count": 5,
   "metadata": {
    "scrolled": true
   },
   "outputs": [
    {
     "data": {
      "text/html": [
       "<div>\n",
       "<style scoped>\n",
       "    .dataframe tbody tr th:only-of-type {\n",
       "        vertical-align: middle;\n",
       "    }\n",
       "\n",
       "    .dataframe tbody tr th {\n",
       "        vertical-align: top;\n",
       "    }\n",
       "\n",
       "    .dataframe thead th {\n",
       "        text-align: right;\n",
       "    }\n",
       "</style>\n",
       "<table border=\"1\" class=\"dataframe\">\n",
       "  <thead>\n",
       "    <tr style=\"text-align: right;\">\n",
       "      <th></th>\n",
       "      <th>created_at</th>\n",
       "      <th>workpackage_total_size</th>\n",
       "      <th>loss</th>\n",
       "      <th>project_node_input_id</th>\n",
       "      <th>project_node_output_id</th>\n",
       "      <th>project_root_node_input_id</th>\n",
       "      <th>task_input.image_url</th>\n",
       "      <th>task_output.answer</th>\n",
       "      <th>task_output.cant_solve</th>\n",
       "      <th>task_output.corrupt_data</th>\n",
       "      <th>task_output.duration_ms</th>\n",
       "      <th>user.vendor_id</th>\n",
       "      <th>user.id</th>\n",
       "      <th>user.vendor_user_id</th>\n",
       "      <th>root_input.image_url</th>\n",
       "    </tr>\n",
       "  </thead>\n",
       "  <tbody>\n",
       "    <tr>\n",
       "      <th>0</th>\n",
       "      <td>2021-02-25T14:08:11.319438+00:00</td>\n",
       "      <td>5</td>\n",
       "      <td>0.0</td>\n",
       "      <td>7e8984b6-dff7-4015-865a-b721a2faf681</td>\n",
       "      <td>0000439a-96ac-4bd4-8753-a4baa229ecf2</td>\n",
       "      <td>7e8984b6-dff7-4015-865a-b721a2faf681</td>\n",
       "      <td>https://qm-auto-annotator.s3.eu-central-1.amaz...</td>\n",
       "      <td>no</td>\n",
       "      <td>False</td>\n",
       "      <td>False</td>\n",
       "      <td>997</td>\n",
       "      <td>vendor_01</td>\n",
       "      <td>08af8775-a72c-4c59-b60f-9ce7df04fa92</td>\n",
       "      <td>annotator_12</td>\n",
       "      <td>https://qm-auto-annotator.s3.eu-central-1.amaz...</td>\n",
       "    </tr>\n",
       "    <tr>\n",
       "      <th>1</th>\n",
       "      <td>2021-02-25T13:14:39.411149+00:00</td>\n",
       "      <td>5</td>\n",
       "      <td>0.0</td>\n",
       "      <td>7e8984b6-dff7-4015-865a-b721a2faf681</td>\n",
       "      <td>0488b469-7c5f-459a-bfcb-ed94957c09c2</td>\n",
       "      <td>7e8984b6-dff7-4015-865a-b721a2faf681</td>\n",
       "      <td>https://qm-auto-annotator.s3.eu-central-1.amaz...</td>\n",
       "      <td>no</td>\n",
       "      <td>False</td>\n",
       "      <td>False</td>\n",
       "      <td>845</td>\n",
       "      <td>vendor_01</td>\n",
       "      <td>62f1cf90-71c9-45c5-990c-f9dc0aa6ea3d</td>\n",
       "      <td>annotator_11</td>\n",
       "      <td>https://qm-auto-annotator.s3.eu-central-1.amaz...</td>\n",
       "    </tr>\n",
       "    <tr>\n",
       "      <th>2</th>\n",
       "      <td>2021-02-25T15:19:57.889434+00:00</td>\n",
       "      <td>5</td>\n",
       "      <td>0.0</td>\n",
       "      <td>7e8984b6-dff7-4015-865a-b721a2faf681</td>\n",
       "      <td>323902a9-3b41-4885-8796-4e393aa2e0a0</td>\n",
       "      <td>7e8984b6-dff7-4015-865a-b721a2faf681</td>\n",
       "      <td>https://qm-auto-annotator.s3.eu-central-1.amaz...</td>\n",
       "      <td>no</td>\n",
       "      <td>False</td>\n",
       "      <td>False</td>\n",
       "      <td>1468</td>\n",
       "      <td>vendor_01</td>\n",
       "      <td>780c974e-6ce7-4f1d-9afe-56bf96753fca</td>\n",
       "      <td>annotator_22</td>\n",
       "      <td>https://qm-auto-annotator.s3.eu-central-1.amaz...</td>\n",
       "    </tr>\n",
       "  </tbody>\n",
       "</table>\n",
       "</div>"
      ],
      "text/plain": [
       "                         created_at  workpackage_total_size  loss  \\\n",
       "0  2021-02-25T14:08:11.319438+00:00                       5   0.0   \n",
       "1  2021-02-25T13:14:39.411149+00:00                       5   0.0   \n",
       "2  2021-02-25T15:19:57.889434+00:00                       5   0.0   \n",
       "\n",
       "                  project_node_input_id                project_node_output_id  \\\n",
       "0  7e8984b6-dff7-4015-865a-b721a2faf681  0000439a-96ac-4bd4-8753-a4baa229ecf2   \n",
       "1  7e8984b6-dff7-4015-865a-b721a2faf681  0488b469-7c5f-459a-bfcb-ed94957c09c2   \n",
       "2  7e8984b6-dff7-4015-865a-b721a2faf681  323902a9-3b41-4885-8796-4e393aa2e0a0   \n",
       "\n",
       "             project_root_node_input_id  \\\n",
       "0  7e8984b6-dff7-4015-865a-b721a2faf681   \n",
       "1  7e8984b6-dff7-4015-865a-b721a2faf681   \n",
       "2  7e8984b6-dff7-4015-865a-b721a2faf681   \n",
       "\n",
       "                                task_input.image_url task_output.answer  \\\n",
       "0  https://qm-auto-annotator.s3.eu-central-1.amaz...                 no   \n",
       "1  https://qm-auto-annotator.s3.eu-central-1.amaz...                 no   \n",
       "2  https://qm-auto-annotator.s3.eu-central-1.amaz...                 no   \n",
       "\n",
       "   task_output.cant_solve  task_output.corrupt_data  task_output.duration_ms  \\\n",
       "0                   False                     False                      997   \n",
       "1                   False                     False                      845   \n",
       "2                   False                     False                     1468   \n",
       "\n",
       "  user.vendor_id                               user.id user.vendor_user_id  \\\n",
       "0      vendor_01  08af8775-a72c-4c59-b60f-9ce7df04fa92        annotator_12   \n",
       "1      vendor_01  62f1cf90-71c9-45c5-990c-f9dc0aa6ea3d        annotator_11   \n",
       "2      vendor_01  780c974e-6ce7-4f1d-9afe-56bf96753fca        annotator_22   \n",
       "\n",
       "                                root_input.image_url  \n",
       "0  https://qm-auto-annotator.s3.eu-central-1.amaz...  \n",
       "1  https://qm-auto-annotator.s3.eu-central-1.amaz...  \n",
       "2  https://qm-auto-annotator.s3.eu-central-1.amaz...  "
      ]
     },
     "execution_count": 5,
     "metadata": {},
     "output_type": "execute_result"
    }
   ],
   "source": [
    "# Getting the answer dataframe df\n",
    "data = data['results']['root_node']['results'] # getting the relevant information\n",
    "new_data = []\n",
    "for k in data.keys():\n",
    "    new_data.extend(data[k]['results'])\n",
    "\n",
    "df = pd.json_normalize(new_data)\n",
    "df.head(3)"
   ]
  },
  {
   "cell_type": "markdown",
   "metadata": {},
   "source": [
    "### Information about annotators"
   ]
  },
  {
   "cell_type": "code",
   "execution_count": 6,
   "metadata": {},
   "outputs": [
    {
     "data": {
      "text/plain": [
       "22"
      ]
     },
     "execution_count": 6,
     "metadata": {},
     "output_type": "execute_result"
    }
   ],
   "source": [
    "# How many annotators contributed to the dataset? \n",
    "annotators_count = len(df[\"user.vendor_user_id\"].unique())\n",
    "annotators_count"
   ]
  },
  {
   "cell_type": "code",
   "execution_count": 7,
   "metadata": {},
   "outputs": [
    {
     "name": "stdout",
     "output_type": "stream",
     "text": [
      "min annotation time is:  0\n",
      "max annotation time is:  42398\n",
      "average annotation time is:  1284.3338725652031\n"
     ]
    }
   ],
   "source": [
    "# What are the average, min and max annotation times (durations)?\n",
    "min_duration = abs(df[\"task_output.duration_ms\"]).min()\n",
    "max_duration = df[\"task_output.duration_ms\"].max()\n",
    "mean_duration = df[\"task_output.duration_ms\"].mean()\n",
    "\n",
    "print(\"min annotation time is: \", min_duration)\n",
    "print(\"max annotation time is: \", max_duration)\n",
    "print(\"average annotation time is: \", mean_duration)"
   ]
  },
  {
   "cell_type": "code",
   "execution_count": 49,
   "metadata": {},
   "outputs": [
    {
     "name": "stdout",
     "output_type": "stream",
     "text": [
      "There exists negative time values! : \n"
     ]
    },
    {
     "data": {
      "text/html": [
       "<div>\n",
       "<style scoped>\n",
       "    .dataframe tbody tr th:only-of-type {\n",
       "        vertical-align: middle;\n",
       "    }\n",
       "\n",
       "    .dataframe tbody tr th {\n",
       "        vertical-align: top;\n",
       "    }\n",
       "\n",
       "    .dataframe thead th {\n",
       "        text-align: right;\n",
       "    }\n",
       "</style>\n",
       "<table border=\"1\" class=\"dataframe\">\n",
       "  <thead>\n",
       "    <tr style=\"text-align: right;\">\n",
       "      <th></th>\n",
       "      <th>task_input.image_url</th>\n",
       "      <th>task_output.answer</th>\n",
       "      <th>task_output.cant_solve</th>\n",
       "      <th>task_output.corrupt_data</th>\n",
       "      <th>task_output.duration_ms</th>\n",
       "      <th>user.vendor_id</th>\n",
       "      <th>user.vendor_user_id</th>\n",
       "    </tr>\n",
       "  </thead>\n",
       "  <tbody>\n",
       "    <tr>\n",
       "      <th>684</th>\n",
       "      <td>https://qm-auto-annotator.s3.eu-central-1.amaz...</td>\n",
       "      <td>no</td>\n",
       "      <td>False</td>\n",
       "      <td>False</td>\n",
       "      <td>-99999</td>\n",
       "      <td>vendor_01</td>\n",
       "      <td>annotator_19</td>\n",
       "    </tr>\n",
       "    <tr>\n",
       "      <th>782</th>\n",
       "      <td>https://qm-auto-annotator.s3.eu-central-1.amaz...</td>\n",
       "      <td>yes</td>\n",
       "      <td>False</td>\n",
       "      <td>False</td>\n",
       "      <td>-99999</td>\n",
       "      <td>vendor_01</td>\n",
       "      <td>annotator_19</td>\n",
       "    </tr>\n",
       "    <tr>\n",
       "      <th>1312</th>\n",
       "      <td>https://qm-auto-annotator.s3.eu-central-1.amaz...</td>\n",
       "      <td>yes</td>\n",
       "      <td>False</td>\n",
       "      <td>False</td>\n",
       "      <td>-99999</td>\n",
       "      <td>vendor_01</td>\n",
       "      <td>annotator_19</td>\n",
       "    </tr>\n",
       "    <tr>\n",
       "      <th>1517</th>\n",
       "      <td>https://qm-auto-annotator.s3.eu-central-1.amaz...</td>\n",
       "      <td>no</td>\n",
       "      <td>False</td>\n",
       "      <td>False</td>\n",
       "      <td>-99999</td>\n",
       "      <td>vendor_01</td>\n",
       "      <td>annotator_19</td>\n",
       "    </tr>\n",
       "    <tr>\n",
       "      <th>1826</th>\n",
       "      <td>https://qm-auto-annotator.s3.eu-central-1.amaz...</td>\n",
       "      <td>yes</td>\n",
       "      <td>False</td>\n",
       "      <td>False</td>\n",
       "      <td>-99999</td>\n",
       "      <td>vendor_01</td>\n",
       "      <td>annotator_19</td>\n",
       "    </tr>\n",
       "  </tbody>\n",
       "</table>\n",
       "</div>"
      ],
      "text/plain": [
       "                                   task_input.image_url task_output.answer  \\\n",
       "684   https://qm-auto-annotator.s3.eu-central-1.amaz...                 no   \n",
       "782   https://qm-auto-annotator.s3.eu-central-1.amaz...                yes   \n",
       "1312  https://qm-auto-annotator.s3.eu-central-1.amaz...                yes   \n",
       "1517  https://qm-auto-annotator.s3.eu-central-1.amaz...                 no   \n",
       "1826  https://qm-auto-annotator.s3.eu-central-1.amaz...                yes   \n",
       "\n",
       "      task_output.cant_solve  task_output.corrupt_data  \\\n",
       "684                    False                     False   \n",
       "782                    False                     False   \n",
       "1312                   False                     False   \n",
       "1517                   False                     False   \n",
       "1826                   False                     False   \n",
       "\n",
       "      task_output.duration_ms user.vendor_id user.vendor_user_id  \n",
       "684                    -99999      vendor_01        annotator_19  \n",
       "782                    -99999      vendor_01        annotator_19  \n",
       "1312                   -99999      vendor_01        annotator_19  \n",
       "1517                   -99999      vendor_01        annotator_19  \n",
       "1826                   -99999      vendor_01        annotator_19  "
      ]
     },
     "execution_count": 49,
     "metadata": {},
     "output_type": "execute_result"
    }
   ],
   "source": [
    "print(\"There exists negative time values : \" )\n",
    "df[df[\"task_output.duration_ms\"]<0][[\"task_input.image_url\", \"task_output.answer\", \"task_output.cant_solve\",\n",
    "                                    \"task_output.corrupt_data\", \"task_output.duration_ms\", \"user.vendor_id\",\n",
    "                                   \"user.vendor_user_id\"]]"
   ]
  },
  {
   "cell_type": "code",
   "execution_count": 9,
   "metadata": {},
   "outputs": [
    {
     "data": {
      "text/html": [
       "<div>\n",
       "<style scoped>\n",
       "    .dataframe tbody tr th:only-of-type {\n",
       "        vertical-align: middle;\n",
       "    }\n",
       "\n",
       "    .dataframe tbody tr th {\n",
       "        vertical-align: top;\n",
       "    }\n",
       "\n",
       "    .dataframe thead th {\n",
       "        text-align: right;\n",
       "    }\n",
       "</style>\n",
       "<table border=\"1\" class=\"dataframe\">\n",
       "  <thead>\n",
       "    <tr style=\"text-align: right;\">\n",
       "      <th></th>\n",
       "      <th>user.vendor_user_id</th>\n",
       "      <th>mean_duration</th>\n",
       "    </tr>\n",
       "  </thead>\n",
       "  <tbody>\n",
       "    <tr>\n",
       "      <th>13</th>\n",
       "      <td>annotator_14</td>\n",
       "      <td>1594.908986</td>\n",
       "    </tr>\n",
       "    <tr>\n",
       "      <th>17</th>\n",
       "      <td>annotator_18</td>\n",
       "      <td>1592.582205</td>\n",
       "    </tr>\n",
       "    <tr>\n",
       "      <th>6</th>\n",
       "      <td>annotator_07</td>\n",
       "      <td>1578.362299</td>\n",
       "    </tr>\n",
       "    <tr>\n",
       "      <th>4</th>\n",
       "      <td>annotator_05</td>\n",
       "      <td>1562.089209</td>\n",
       "    </tr>\n",
       "    <tr>\n",
       "      <th>5</th>\n",
       "      <td>annotator_06</td>\n",
       "      <td>1496.659734</td>\n",
       "    </tr>\n",
       "    <tr>\n",
       "      <th>2</th>\n",
       "      <td>annotator_03</td>\n",
       "      <td>1460.249206</td>\n",
       "    </tr>\n",
       "    <tr>\n",
       "      <th>7</th>\n",
       "      <td>annotator_08</td>\n",
       "      <td>1434.512926</td>\n",
       "    </tr>\n",
       "    <tr>\n",
       "      <th>14</th>\n",
       "      <td>annotator_15</td>\n",
       "      <td>1365.291721</td>\n",
       "    </tr>\n",
       "    <tr>\n",
       "      <th>11</th>\n",
       "      <td>annotator_12</td>\n",
       "      <td>1306.305475</td>\n",
       "    </tr>\n",
       "    <tr>\n",
       "      <th>10</th>\n",
       "      <td>annotator_11</td>\n",
       "      <td>1279.910659</td>\n",
       "    </tr>\n",
       "    <tr>\n",
       "      <th>15</th>\n",
       "      <td>annotator_16</td>\n",
       "      <td>1269.793124</td>\n",
       "    </tr>\n",
       "    <tr>\n",
       "      <th>9</th>\n",
       "      <td>annotator_10</td>\n",
       "      <td>1252.974603</td>\n",
       "    </tr>\n",
       "    <tr>\n",
       "      <th>20</th>\n",
       "      <td>annotator_21</td>\n",
       "      <td>1238.922373</td>\n",
       "    </tr>\n",
       "    <tr>\n",
       "      <th>8</th>\n",
       "      <td>annotator_09</td>\n",
       "      <td>1198.814198</td>\n",
       "    </tr>\n",
       "    <tr>\n",
       "      <th>1</th>\n",
       "      <td>annotator_02</td>\n",
       "      <td>1178.170090</td>\n",
       "    </tr>\n",
       "    <tr>\n",
       "      <th>19</th>\n",
       "      <td>annotator_20</td>\n",
       "      <td>1173.149200</td>\n",
       "    </tr>\n",
       "    <tr>\n",
       "      <th>12</th>\n",
       "      <td>annotator_13</td>\n",
       "      <td>1155.011161</td>\n",
       "    </tr>\n",
       "    <tr>\n",
       "      <th>3</th>\n",
       "      <td>annotator_04</td>\n",
       "      <td>1113.926958</td>\n",
       "    </tr>\n",
       "    <tr>\n",
       "      <th>0</th>\n",
       "      <td>annotator_01</td>\n",
       "      <td>1077.323437</td>\n",
       "    </tr>\n",
       "    <tr>\n",
       "      <th>16</th>\n",
       "      <td>annotator_17</td>\n",
       "      <td>991.886370</td>\n",
       "    </tr>\n",
       "    <tr>\n",
       "      <th>21</th>\n",
       "      <td>annotator_22</td>\n",
       "      <td>879.434957</td>\n",
       "    </tr>\n",
       "    <tr>\n",
       "      <th>18</th>\n",
       "      <td>annotator_19</td>\n",
       "      <td>-1303.011765</td>\n",
       "    </tr>\n",
       "  </tbody>\n",
       "</table>\n",
       "</div>"
      ],
      "text/plain": [
       "   user.vendor_user_id  mean_duration\n",
       "13        annotator_14    1594.908986\n",
       "17        annotator_18    1592.582205\n",
       "6         annotator_07    1578.362299\n",
       "4         annotator_05    1562.089209\n",
       "5         annotator_06    1496.659734\n",
       "2         annotator_03    1460.249206\n",
       "7         annotator_08    1434.512926\n",
       "14        annotator_15    1365.291721\n",
       "11        annotator_12    1306.305475\n",
       "10        annotator_11    1279.910659\n",
       "15        annotator_16    1269.793124\n",
       "9         annotator_10    1252.974603\n",
       "20        annotator_21    1238.922373\n",
       "8         annotator_09    1198.814198\n",
       "1         annotator_02    1178.170090\n",
       "19        annotator_20    1173.149200\n",
       "12        annotator_13    1155.011161\n",
       "3         annotator_04    1113.926958\n",
       "0         annotator_01    1077.323437\n",
       "16        annotator_17     991.886370\n",
       "21        annotator_22     879.434957\n",
       "18        annotator_19   -1303.011765"
      ]
     },
     "execution_count": 9,
     "metadata": {},
     "output_type": "execute_result"
    }
   ],
   "source": [
    "# Plotting the average duration per annotator:\n",
    "annot_duration = df.groupby(\"user.vendor_user_id\", as_index= False)[\"task_output.duration_ms\"].mean() \\\n",
    "                    .rename(columns = {\"task_output.duration_ms\": \"mean_duration\"})\n",
    "annot_duration.sort_values(by = \"mean_duration\", ascending = False)\n"
   ]
  },
  {
   "cell_type": "code",
   "execution_count": 10,
   "metadata": {},
   "outputs": [
    {
     "data": {
      "text/plain": [
       "<AxesSubplot:xlabel='mean_duration', ylabel='user.vendor_user_id'>"
      ]
     },
     "execution_count": 10,
     "metadata": {},
     "output_type": "execute_result"
    },
    {
     "data": {
      "image/png": "[encoded data removed]",
      "text/plain": [
       "<Figure size 842.4x595.44 with 1 Axes>"
      ]
     },
     "metadata": {},
     "output_type": "display_data"
    }
   ],
   "source": [
    "sns.set(rc={'figure.figsize':(11.7,8.27)})\n",
    "sns.barplot(data = annot_duration,\n",
    "           x = \"mean_duration\",\n",
    "           y = \"user.vendor_user_id\")"
   ]
  },
  {
   "cell_type": "code",
   "execution_count": 11,
   "metadata": {},
   "outputs": [
    {
     "data": {
      "text/html": [
       "<div>\n",
       "<style scoped>\n",
       "    .dataframe tbody tr th:only-of-type {\n",
       "        vertical-align: middle;\n",
       "    }\n",
       "\n",
       "    .dataframe tbody tr th {\n",
       "        vertical-align: top;\n",
       "    }\n",
       "\n",
       "    .dataframe thead th {\n",
       "        text-align: right;\n",
       "    }\n",
       "</style>\n",
       "<table border=\"1\" class=\"dataframe\">\n",
       "  <thead>\n",
       "    <tr style=\"text-align: right;\">\n",
       "      <th></th>\n",
       "      <th>user.vendor_user_id</th>\n",
       "      <th>count</th>\n",
       "    </tr>\n",
       "  </thead>\n",
       "  <tbody>\n",
       "    <tr>\n",
       "      <th>1</th>\n",
       "      <td>annotator_02</td>\n",
       "      <td>7596</td>\n",
       "    </tr>\n",
       "    <tr>\n",
       "      <th>12</th>\n",
       "      <td>annotator_13</td>\n",
       "      <td>7078</td>\n",
       "    </tr>\n",
       "    <tr>\n",
       "      <th>7</th>\n",
       "      <td>annotator_08</td>\n",
       "      <td>6537</td>\n",
       "    </tr>\n",
       "    <tr>\n",
       "      <th>10</th>\n",
       "      <td>annotator_11</td>\n",
       "      <td>6436</td>\n",
       "    </tr>\n",
       "    <tr>\n",
       "      <th>3</th>\n",
       "      <td>annotator_04</td>\n",
       "      <td>6421</td>\n",
       "    </tr>\n",
       "    <tr>\n",
       "      <th>11</th>\n",
       "      <td>annotator_12</td>\n",
       "      <td>6210</td>\n",
       "    </tr>\n",
       "    <tr>\n",
       "      <th>19</th>\n",
       "      <td>annotator_20</td>\n",
       "      <td>6126</td>\n",
       "    </tr>\n",
       "    <tr>\n",
       "      <th>14</th>\n",
       "      <td>annotator_15</td>\n",
       "      <td>6088</td>\n",
       "    </tr>\n",
       "    <tr>\n",
       "      <th>5</th>\n",
       "      <td>annotator_06</td>\n",
       "      <td>5337</td>\n",
       "    </tr>\n",
       "    <tr>\n",
       "      <th>17</th>\n",
       "      <td>annotator_18</td>\n",
       "      <td>5170</td>\n",
       "    </tr>\n",
       "    <tr>\n",
       "      <th>15</th>\n",
       "      <td>annotator_16</td>\n",
       "      <td>5061</td>\n",
       "    </tr>\n",
       "    <tr>\n",
       "      <th>8</th>\n",
       "      <td>annotator_09</td>\n",
       "      <td>4860</td>\n",
       "    </tr>\n",
       "    <tr>\n",
       "      <th>16</th>\n",
       "      <td>annotator_17</td>\n",
       "      <td>3485</td>\n",
       "    </tr>\n",
       "    <tr>\n",
       "      <th>4</th>\n",
       "      <td>annotator_05</td>\n",
       "      <td>3475</td>\n",
       "    </tr>\n",
       "    <tr>\n",
       "      <th>20</th>\n",
       "      <td>annotator_21</td>\n",
       "      <td>2950</td>\n",
       "    </tr>\n",
       "    <tr>\n",
       "      <th>6</th>\n",
       "      <td>annotator_07</td>\n",
       "      <td>2175</td>\n",
       "    </tr>\n",
       "    <tr>\n",
       "      <th>21</th>\n",
       "      <td>annotator_22</td>\n",
       "      <td>1745</td>\n",
       "    </tr>\n",
       "    <tr>\n",
       "      <th>13</th>\n",
       "      <td>annotator_14</td>\n",
       "      <td>1725</td>\n",
       "    </tr>\n",
       "    <tr>\n",
       "      <th>0</th>\n",
       "      <td>annotator_01</td>\n",
       "      <td>1280</td>\n",
       "    </tr>\n",
       "    <tr>\n",
       "      <th>2</th>\n",
       "      <td>annotator_03</td>\n",
       "      <td>630</td>\n",
       "    </tr>\n",
       "    <tr>\n",
       "      <th>9</th>\n",
       "      <td>annotator_10</td>\n",
       "      <td>315</td>\n",
       "    </tr>\n",
       "    <tr>\n",
       "      <th>18</th>\n",
       "      <td>annotator_19</td>\n",
       "      <td>170</td>\n",
       "    </tr>\n",
       "  </tbody>\n",
       "</table>\n",
       "</div>"
      ],
      "text/plain": [
       "   user.vendor_user_id  count\n",
       "1         annotator_02   7596\n",
       "12        annotator_13   7078\n",
       "7         annotator_08   6537\n",
       "10        annotator_11   6436\n",
       "3         annotator_04   6421\n",
       "11        annotator_12   6210\n",
       "19        annotator_20   6126\n",
       "14        annotator_15   6088\n",
       "5         annotator_06   5337\n",
       "17        annotator_18   5170\n",
       "15        annotator_16   5061\n",
       "8         annotator_09   4860\n",
       "16        annotator_17   3485\n",
       "4         annotator_05   3475\n",
       "20        annotator_21   2950\n",
       "6         annotator_07   2175\n",
       "21        annotator_22   1745\n",
       "13        annotator_14   1725\n",
       "0         annotator_01   1280\n",
       "2         annotator_03    630\n",
       "9         annotator_10    315\n",
       "18        annotator_19    170"
      ]
     },
     "execution_count": 11,
     "metadata": {},
     "output_type": "execute_result"
    }
   ],
   "source": [
    "# Did all annotators produce the same amount of results, or are there differences?\n",
    "annot_results = df.groupby(\"user.vendor_user_id\", as_index= False)[\"task_input.image_url\"].count()\\\n",
    "                  .rename(columns = {\"task_input.image_url\":\"count\"})\n",
    "annot_results.sort_values(by = \"count\", ascending = False)"
   ]
  },
  {
   "cell_type": "code",
   "execution_count": 50,
   "metadata": {},
   "outputs": [
    {
     "name": "stdout",
     "output_type": "stream",
     "text": [
      "average number of results per annotator:  4130.454545454545\n"
     ]
    }
   ],
   "source": [
    "print(\"average number of results per annotator: \", annot_results[\"count\"].mean())"
   ]
  },
  {
   "cell_type": "code",
   "execution_count": 12,
   "metadata": {},
   "outputs": [
    {
     "data": {
      "text/plain": [
       "<AxesSubplot:xlabel='count', ylabel='user.vendor_user_id'>"
      ]
     },
     "execution_count": 12,
     "metadata": {},
     "output_type": "execute_result"
    },
    {
     "data": {
      "image/png": "[encoded data removed]",
      "text/plain": [
       "<Figure size 842.4x595.44 with 1 Axes>"
      ]
     },
     "metadata": {},
     "output_type": "display_data"
    }
   ],
   "source": [
    "sns.set(rc={'figure.figsize':(11.7,8.27)})\n",
    "sns.barplot(data = annot_results,\n",
    "           x = \"count\",\n",
    "           y = \"user.vendor_user_id\")"
   ]
  },
  {
   "cell_type": "markdown",
   "metadata": {},
   "source": [
    "    Annotator_19 generates the least amount of answers and seems to have \"negative\" answer durations. Perhaps there is an issue with their work"
   ]
  },
  {
   "cell_type": "code",
   "execution_count": 13,
   "metadata": {},
   "outputs": [
    {
     "data": {
      "text/html": [
       "<div>\n",
       "<style scoped>\n",
       "    .dataframe tbody tr th:only-of-type {\n",
       "        vertical-align: middle;\n",
       "    }\n",
       "\n",
       "    .dataframe tbody tr th {\n",
       "        vertical-align: top;\n",
       "    }\n",
       "\n",
       "    .dataframe thead th {\n",
       "        text-align: right;\n",
       "    }\n",
       "</style>\n",
       "<table border=\"1\" class=\"dataframe\">\n",
       "  <thead>\n",
       "    <tr style=\"text-align: right;\">\n",
       "      <th></th>\n",
       "      <th>task_input.image_url</th>\n",
       "      <th>task_output.answer</th>\n",
       "      <th>answer_count</th>\n",
       "    </tr>\n",
       "  </thead>\n",
       "  <tbody>\n",
       "    <tr>\n",
       "      <th>0</th>\n",
       "      <td>https://qm-auto-annotator.s3.eu-central-1.amaz...</td>\n",
       "      <td>no</td>\n",
       "      <td>7</td>\n",
       "    </tr>\n",
       "    <tr>\n",
       "      <th>1</th>\n",
       "      <td>https://qm-auto-annotator.s3.eu-central-1.amaz...</td>\n",
       "      <td>yes</td>\n",
       "      <td>3</td>\n",
       "    </tr>\n",
       "    <tr>\n",
       "      <th>7</th>\n",
       "      <td>https://qm-auto-annotator.s3.eu-central-1.amaz...</td>\n",
       "      <td>no</td>\n",
       "      <td>9</td>\n",
       "    </tr>\n",
       "    <tr>\n",
       "      <th>8</th>\n",
       "      <td>https://qm-auto-annotator.s3.eu-central-1.amaz...</td>\n",
       "      <td>yes</td>\n",
       "      <td>1</td>\n",
       "    </tr>\n",
       "    <tr>\n",
       "      <th>11</th>\n",
       "      <td>https://qm-auto-annotator.s3.eu-central-1.amaz...</td>\n",
       "      <td>no</td>\n",
       "      <td>6</td>\n",
       "    </tr>\n",
       "    <tr>\n",
       "      <th>...</th>\n",
       "      <td>...</td>\n",
       "      <td>...</td>\n",
       "      <td>...</td>\n",
       "    </tr>\n",
       "    <tr>\n",
       "      <th>10782</th>\n",
       "      <td>https://qm-auto-annotator.s3.eu-central-1.amaz...</td>\n",
       "      <td>yes</td>\n",
       "      <td>2</td>\n",
       "    </tr>\n",
       "    <tr>\n",
       "      <th>10785</th>\n",
       "      <td>https://qm-auto-annotator.s3.eu-central-1.amaz...</td>\n",
       "      <td>no</td>\n",
       "      <td>9</td>\n",
       "    </tr>\n",
       "    <tr>\n",
       "      <th>10786</th>\n",
       "      <td>https://qm-auto-annotator.s3.eu-central-1.amaz...</td>\n",
       "      <td>yes</td>\n",
       "      <td>1</td>\n",
       "    </tr>\n",
       "    <tr>\n",
       "      <th>10789</th>\n",
       "      <td>https://qm-auto-annotator.s3.eu-central-1.amaz...</td>\n",
       "      <td>no</td>\n",
       "      <td>9</td>\n",
       "    </tr>\n",
       "    <tr>\n",
       "      <th>10790</th>\n",
       "      <td>https://qm-auto-annotator.s3.eu-central-1.amaz...</td>\n",
       "      <td>yes</td>\n",
       "      <td>1</td>\n",
       "    </tr>\n",
       "  </tbody>\n",
       "</table>\n",
       "<p>3437 rows × 3 columns</p>\n",
       "</div>"
      ],
      "text/plain": [
       "                                    task_input.image_url task_output.answer  \\\n",
       "0      https://qm-auto-annotator.s3.eu-central-1.amaz...                 no   \n",
       "1      https://qm-auto-annotator.s3.eu-central-1.amaz...                yes   \n",
       "7      https://qm-auto-annotator.s3.eu-central-1.amaz...                 no   \n",
       "8      https://qm-auto-annotator.s3.eu-central-1.amaz...                yes   \n",
       "11     https://qm-auto-annotator.s3.eu-central-1.amaz...                 no   \n",
       "...                                                  ...                ...   \n",
       "10782  https://qm-auto-annotator.s3.eu-central-1.amaz...                yes   \n",
       "10785  https://qm-auto-annotator.s3.eu-central-1.amaz...                 no   \n",
       "10786  https://qm-auto-annotator.s3.eu-central-1.amaz...                yes   \n",
       "10789  https://qm-auto-annotator.s3.eu-central-1.amaz...                 no   \n",
       "10790  https://qm-auto-annotator.s3.eu-central-1.amaz...                yes   \n",
       "\n",
       "       answer_count  \n",
       "0                 7  \n",
       "1                 3  \n",
       "7                 9  \n",
       "8                 1  \n",
       "11                6  \n",
       "...             ...  \n",
       "10782             2  \n",
       "10785             9  \n",
       "10786             1  \n",
       "10789             9  \n",
       "10790             1  \n",
       "\n",
       "[3437 rows x 3 columns]"
      ]
     },
     "execution_count": 13,
     "metadata": {},
     "output_type": "execute_result"
    }
   ],
   "source": [
    "# Are there questions for which annotators highly disagree?\n",
    "answer_df = df.groupby([\"task_input.image_url\",\"task_output.answer\"], as_index=False)[\"created_at\"].count()\\\n",
    "                .rename(columns={\"created_at\":\"answer_count\"})\n",
    "answer_df = answer_df[answer_df[\"answer_count\"]<10] # selecting the answers with disagreements\n",
    "answer_df"
   ]
  },
  {
   "cell_type": "code",
   "execution_count": 14,
   "metadata": {},
   "outputs": [
    {
     "name": "stdout",
     "output_type": "stream",
     "text": [
      "Number of answers where annotators disagree:  1718\n"
     ]
    }
   ],
   "source": [
    "# Number of answers where annotators disagree\n",
    "print(\"Number of answers where annotators disagree: \", len(answer_df[\"task_input.image_url\"].unique()))"
   ]
  },
  {
   "cell_type": "markdown",
   "metadata": {},
   "source": [
    "    If we consider that 9 yes and 1 no (or vice versa) is not a \"high\" disagreement, we obtain:\n",
    "  "
   ]
  },
  {
   "cell_type": "code",
   "execution_count": 15,
   "metadata": {},
   "outputs": [
    {
     "name": "stdout",
     "output_type": "stream",
     "text": [
      "Number of answers where annotators highly disagree:  635\n"
     ]
    }
   ],
   "source": [
    "answer_df = answer_df[answer_df[\"answer_count\"]<9]\n",
    "answer_df = answer_df[answer_df[\"answer_count\"]>1]\n",
    "# Number of answers where annotators disagree\n",
    "print(\"Number of answers where annotators highly disagree: \", len(answer_df[\"task_input.image_url\"].unique()))"
   ]
  },
  {
   "cell_type": "markdown",
   "metadata": {},
   "source": [
    "### Information about task_output and answer trends"
   ]
  },
  {
   "cell_type": "code",
   "execution_count": 16,
   "metadata": {},
   "outputs": [
    {
     "data": {
      "text/plain": [
       "False    90853\n",
       "True        17\n",
       "Name: task_output.cant_solve, dtype: int64"
      ]
     },
     "execution_count": 16,
     "metadata": {},
     "output_type": "execute_result"
    }
   ],
   "source": [
    "df[\"task_output.cant_solve\"].value_counts() # Value count of the values of the field \"Cant_solve\""
   ]
  },
  {
   "cell_type": "code",
   "execution_count": 17,
   "metadata": {},
   "outputs": [
    {
     "data": {
      "text/plain": [
       "False    0.999813\n",
       "True     0.000187\n",
       "Name: task_output.cant_solve, dtype: float64"
      ]
     },
     "execution_count": 17,
     "metadata": {},
     "output_type": "execute_result"
    }
   ],
   "source": [
    "df[\"task_output.cant_solve\"].value_counts(normalize=True) # Relative count of  the values of the field \"Cant_solve\""
   ]
  },
  {
   "cell_type": "code",
   "execution_count": 18,
   "metadata": {},
   "outputs": [
    {
     "data": {
      "text/plain": [
       "False    90866\n",
       "True         4\n",
       "Name: task_output.corrupt_data, dtype: int64"
      ]
     },
     "execution_count": 18,
     "metadata": {},
     "output_type": "execute_result"
    }
   ],
   "source": [
    "df[\"task_output.corrupt_data\"].value_counts() # Value count of the values of the field \"Cant_solve\""
   ]
  },
  {
   "cell_type": "code",
   "execution_count": 19,
   "metadata": {},
   "outputs": [
    {
     "data": {
      "text/plain": [
       "False    0.999956\n",
       "True     0.000044\n",
       "Name: task_output.corrupt_data, dtype: float64"
      ]
     },
     "execution_count": 19,
     "metadata": {},
     "output_type": "execute_result"
    }
   ],
   "source": [
    "df[\"task_output.corrupt_data\"].value_counts(normalize=True) # Relative count of the values of the field \"Cant_solve\""
   ]
  },
  {
   "cell_type": "markdown",
   "metadata": {},
   "source": [
    "    Most values (99,9% of the answers) are solvable and not corrupt. only 17 images can't be solved and 4 images are deemed corrupt"
   ]
  },
  {
   "cell_type": "code",
   "execution_count": 20,
   "metadata": {},
   "outputs": [
    {
     "data": {
      "text/plain": [
       "yes    46132\n",
       "no     44717\n",
       "          21\n",
       "Name: task_output.answer, dtype: int64"
      ]
     },
     "execution_count": 20,
     "metadata": {},
     "output_type": "execute_result"
    }
   ],
   "source": [
    "df[\"task_output.answer\"].value_counts() "
   ]
  },
  {
   "cell_type": "markdown",
   "metadata": {},
   "source": [
    "    The number of empty values in answers is equal to the sum of corrupt_data count and cant_solve count, and matches them in the dataframe"
   ]
  },
  {
   "cell_type": "markdown",
   "metadata": {},
   "source": [
    "##### Checking the corrupt and unsolvable images"
   ]
  },
  {
   "cell_type": "code",
   "execution_count": 21,
   "metadata": {},
   "outputs": [],
   "source": [
    "df_output_solve = df[[\"user.vendor_user_id\",\"task_output.cant_solve\"]]\n",
    "df_output_corrupt = df[[\"user.vendor_user_id\",\"task_output.corrupt_data\"]]\n",
    "\n",
    "df_output_solve = df_output_solve[df_output_solve[\"task_output.cant_solve\"] == True]\n",
    "df_output_corrupt = df_output_corrupt[df_output_corrupt[\"task_output.corrupt_data\"] == True]"
   ]
  },
  {
   "cell_type": "code",
   "execution_count": 22,
   "metadata": {},
   "outputs": [
    {
     "data": {
      "text/html": [
       "<div>\n",
       "<style scoped>\n",
       "    .dataframe tbody tr th:only-of-type {\n",
       "        vertical-align: middle;\n",
       "    }\n",
       "\n",
       "    .dataframe tbody tr th {\n",
       "        vertical-align: top;\n",
       "    }\n",
       "\n",
       "    .dataframe thead th {\n",
       "        text-align: right;\n",
       "    }\n",
       "</style>\n",
       "<table border=\"1\" class=\"dataframe\">\n",
       "  <thead>\n",
       "    <tr style=\"text-align: right;\">\n",
       "      <th></th>\n",
       "      <th>user.vendor_user_id</th>\n",
       "      <th>cant_solve_count</th>\n",
       "    </tr>\n",
       "  </thead>\n",
       "  <tbody>\n",
       "    <tr>\n",
       "      <th>2</th>\n",
       "      <td>annotator_07</td>\n",
       "      <td>1</td>\n",
       "    </tr>\n",
       "    <tr>\n",
       "      <th>4</th>\n",
       "      <td>annotator_11</td>\n",
       "      <td>1</td>\n",
       "    </tr>\n",
       "    <tr>\n",
       "      <th>5</th>\n",
       "      <td>annotator_14</td>\n",
       "      <td>1</td>\n",
       "    </tr>\n",
       "    <tr>\n",
       "      <th>6</th>\n",
       "      <td>annotator_18</td>\n",
       "      <td>1</td>\n",
       "    </tr>\n",
       "    <tr>\n",
       "      <th>7</th>\n",
       "      <td>annotator_20</td>\n",
       "      <td>1</td>\n",
       "    </tr>\n",
       "    <tr>\n",
       "      <th>0</th>\n",
       "      <td>annotator_02</td>\n",
       "      <td>2</td>\n",
       "    </tr>\n",
       "    <tr>\n",
       "      <th>3</th>\n",
       "      <td>annotator_08</td>\n",
       "      <td>2</td>\n",
       "    </tr>\n",
       "    <tr>\n",
       "      <th>1</th>\n",
       "      <td>annotator_04</td>\n",
       "      <td>4</td>\n",
       "    </tr>\n",
       "    <tr>\n",
       "      <th>8</th>\n",
       "      <td>annotator_22</td>\n",
       "      <td>4</td>\n",
       "    </tr>\n",
       "  </tbody>\n",
       "</table>\n",
       "</div>"
      ],
      "text/plain": [
       "  user.vendor_user_id  cant_solve_count\n",
       "2        annotator_07                 1\n",
       "4        annotator_11                 1\n",
       "5        annotator_14                 1\n",
       "6        annotator_18                 1\n",
       "7        annotator_20                 1\n",
       "0        annotator_02                 2\n",
       "3        annotator_08                 2\n",
       "1        annotator_04                 4\n",
       "8        annotator_22                 4"
      ]
     },
     "execution_count": 22,
     "metadata": {},
     "output_type": "execute_result"
    }
   ],
   "source": [
    "df_output_solve.groupby(\"user.vendor_user_id\", as_index=False).count()\\\n",
    "                .rename(columns = {\"task_output.cant_solve\":\"cant_solve_count\"})\\\n",
    "                .sort_values(by= \"cant_solve_count\")"
   ]
  },
  {
   "cell_type": "code",
   "execution_count": 23,
   "metadata": {},
   "outputs": [
    {
     "data": {
      "text/html": [
       "<div>\n",
       "<style scoped>\n",
       "    .dataframe tbody tr th:only-of-type {\n",
       "        vertical-align: middle;\n",
       "    }\n",
       "\n",
       "    .dataframe tbody tr th {\n",
       "        vertical-align: top;\n",
       "    }\n",
       "\n",
       "    .dataframe thead th {\n",
       "        text-align: right;\n",
       "    }\n",
       "</style>\n",
       "<table border=\"1\" class=\"dataframe\">\n",
       "  <thead>\n",
       "    <tr style=\"text-align: right;\">\n",
       "      <th></th>\n",
       "      <th>user.vendor_user_id</th>\n",
       "      <th>corrupt_count</th>\n",
       "    </tr>\n",
       "  </thead>\n",
       "  <tbody>\n",
       "    <tr>\n",
       "      <th>0</th>\n",
       "      <td>annotator_06</td>\n",
       "      <td>1</td>\n",
       "    </tr>\n",
       "    <tr>\n",
       "      <th>1</th>\n",
       "      <td>annotator_08</td>\n",
       "      <td>1</td>\n",
       "    </tr>\n",
       "    <tr>\n",
       "      <th>2</th>\n",
       "      <td>annotator_18</td>\n",
       "      <td>2</td>\n",
       "    </tr>\n",
       "  </tbody>\n",
       "</table>\n",
       "</div>"
      ],
      "text/plain": [
       "  user.vendor_user_id  corrupt_count\n",
       "0        annotator_06              1\n",
       "1        annotator_08              1\n",
       "2        annotator_18              2"
      ]
     },
     "execution_count": 23,
     "metadata": {},
     "output_type": "execute_result"
    }
   ],
   "source": [
    "df_output_corrupt.groupby(\"user.vendor_user_id\", as_index=False).count()\\\n",
    "                .rename(columns = {\"task_output.corrupt_data\":\"corrupt_count\"})\\\n",
    "                .sort_values(by= \"corrupt_count\")"
   ]
  },
  {
   "cell_type": "code",
   "execution_count": 24,
   "metadata": {},
   "outputs": [
    {
     "data": {
      "text/html": [
       "<div>\n",
       "<style scoped>\n",
       "    .dataframe tbody tr th:only-of-type {\n",
       "        vertical-align: middle;\n",
       "    }\n",
       "\n",
       "    .dataframe tbody tr th {\n",
       "        vertical-align: top;\n",
       "    }\n",
       "\n",
       "    .dataframe thead th {\n",
       "        text-align: right;\n",
       "    }\n",
       "</style>\n",
       "<table border=\"1\" class=\"dataframe\">\n",
       "  <thead>\n",
       "    <tr style=\"text-align: right;\">\n",
       "      <th></th>\n",
       "      <th>user.vendor_user_id</th>\n",
       "      <th>task_output.cant_solve</th>\n",
       "      <th>task_output.corrupt_data</th>\n",
       "    </tr>\n",
       "  </thead>\n",
       "  <tbody>\n",
       "  </tbody>\n",
       "</table>\n",
       "</div>"
      ],
      "text/plain": [
       "Empty DataFrame\n",
       "Columns: [user.vendor_user_id, task_output.cant_solve, task_output.corrupt_data]\n",
       "Index: []"
      ]
     },
     "execution_count": 24,
     "metadata": {},
     "output_type": "execute_result"
    }
   ],
   "source": [
    "df_output= df[[\"user.vendor_user_id\",\"task_output.cant_solve\",\"task_output.corrupt_data\"]]\n",
    "df_output = df_output[(df_output[\"task_output.cant_solve\"] == True) & (df_output[\"task_output.corrupt_data\"] == True)]\n",
    "df_output "
   ]
  },
  {
   "cell_type": "markdown",
   "metadata": {},
   "source": [
    "    Not annotators put true to both cant_solve and corrupt_data at the same time. Though it seems 9/22 annoatators found images that could not be solved and only 3/22 thought data was corrupted"
   ]
  },
  {
   "cell_type": "markdown",
   "metadata": {},
   "source": [
    "### Information about the reference data"
   ]
  },
  {
   "cell_type": "markdown",
   "metadata": {},
   "source": [
    "##### Is the reference Dataset balanced?"
   ]
  },
  {
   "cell_type": "code",
   "execution_count": 26,
   "metadata": {},
   "outputs": [
    {
     "data": {
      "text/plain": [
       "yes    0.504677\n",
       "no     0.495323\n",
       "Name: answer, dtype: float64"
      ]
     },
     "execution_count": 26,
     "metadata": {},
     "output_type": "execute_result"
    }
   ],
   "source": [
    "df1[\"answer\"].value_counts(normalize = True)"
   ]
  },
  {
   "cell_type": "code",
   "execution_count": 51,
   "metadata": {},
   "outputs": [
    {
     "data": {
      "text/plain": [
       "yes    4586\n",
       "no     4501\n",
       "Name: answer, dtype: int64"
      ]
     },
     "execution_count": 51,
     "metadata": {},
     "output_type": "execute_result"
    }
   ],
   "source": [
    "df1[\"answer\"].value_counts()"
   ]
  },
  {
   "cell_type": "code",
   "execution_count": 28,
   "metadata": {},
   "outputs": [
    {
     "data": {
      "text/html": [
       "<div>\n",
       "<style scoped>\n",
       "    .dataframe tbody tr th:only-of-type {\n",
       "        vertical-align: middle;\n",
       "    }\n",
       "\n",
       "    .dataframe tbody tr th {\n",
       "        vertical-align: top;\n",
       "    }\n",
       "\n",
       "    .dataframe thead th {\n",
       "        text-align: right;\n",
       "    }\n",
       "</style>\n",
       "<table border=\"1\" class=\"dataframe\">\n",
       "  <thead>\n",
       "    <tr style=\"text-align: right;\">\n",
       "      <th></th>\n",
       "      <th>answer</th>\n",
       "      <th>count</th>\n",
       "    </tr>\n",
       "  </thead>\n",
       "  <tbody>\n",
       "    <tr>\n",
       "      <th>0</th>\n",
       "      <td>no</td>\n",
       "      <td>4501</td>\n",
       "    </tr>\n",
       "    <tr>\n",
       "      <th>1</th>\n",
       "      <td>yes</td>\n",
       "      <td>4586</td>\n",
       "    </tr>\n",
       "  </tbody>\n",
       "</table>\n",
       "</div>"
      ],
      "text/plain": [
       "  answer  count\n",
       "0     no   4501\n",
       "1    yes   4586"
      ]
     },
     "execution_count": 28,
     "metadata": {},
     "output_type": "execute_result"
    }
   ],
   "source": [
    "ref_balance = df1.groupby(\"answer\", as_index = False)[\"image\"].count() \\\n",
    "                 .rename(columns = {\"image\":\"count\"})\n",
    "ref_balance"
   ]
  },
  {
   "cell_type": "code",
   "execution_count": 29,
   "metadata": {},
   "outputs": [
    {
     "data": {
      "text/plain": [
       "([<matplotlib.patches.Wedge at 0x1f3af841eb0>,\n",
       "  <matplotlib.patches.Wedge at 0x1f3af84e5e0>],\n",
       " [Text(0.01616196209293889, 1.0998812622193845, 'no'),\n",
       "  Text(-0.016161962092938537, -1.0998812622193845, 'yes')],\n",
       " [Text(0.008815615687057576, 0.5999352339378461, '49.5%\\n4501'),\n",
       "  Text(-0.008815615687057384, -0.5999352339378461, '50.5%\\n4586')])"
      ]
     },
     "execution_count": 29,
     "metadata": {},
     "output_type": "execute_result"
    },
    {
     "data": {
      "image/png": "[encoded data removed]",
      "text/plain": [
       "<Figure size 842.4x595.44 with 1 Axes>"
      ]
     },
     "metadata": {},
     "output_type": "display_data"
    }
   ],
   "source": [
    "total = ref_balance['count'].sum()\n",
    "def fmt(x):\n",
    "    return '{:.1f}%\\n{:.0f}'.format(x, total*x/100)\n",
    "plt.pie(ref_balance[\"count\"], labels = ref_balance[\"answer\"], autopct = fmt )"
   ]
  },
  {
   "cell_type": "markdown",
   "metadata": {},
   "source": [
    "    With almost 50% for both images containing bicycle and images with no bicycles, the reference dataset is indeed balanced"
   ]
  },
  {
   "cell_type": "markdown",
   "metadata": {},
   "source": [
    "##### Identifying good and bad annotators"
   ]
  },
  {
   "cell_type": "code",
   "execution_count": 30,
   "metadata": {},
   "outputs": [],
   "source": [
    "# Getting the same image ids from the anonymized set\n",
    "\"\"\"\n",
    "This function extracts the image id that matches the reference set from the image_url\n",
    "\"\"\"\n",
    "def get_id(s):\n",
    "    image = re.findall(\"img_\\d{4,5}\",s)\n",
    "    return(image[0])\n",
    "\n",
    "df[\"image\"] = df[\"task_input.image_url\"].apply(get_id)"
   ]
  },
  {
   "cell_type": "code",
   "execution_count": 43,
   "metadata": {},
   "outputs": [
    {
     "data": {
      "text/html": [
       "<div>\n",
       "<style scoped>\n",
       "    .dataframe tbody tr th:only-of-type {\n",
       "        vertical-align: middle;\n",
       "    }\n",
       "\n",
       "    .dataframe tbody tr th {\n",
       "        vertical-align: top;\n",
       "    }\n",
       "\n",
       "    .dataframe thead th {\n",
       "        text-align: right;\n",
       "    }\n",
       "</style>\n",
       "<table border=\"1\" class=\"dataframe\">\n",
       "  <thead>\n",
       "    <tr style=\"text-align: right;\">\n",
       "      <th></th>\n",
       "      <th>image</th>\n",
       "      <th>user.vendor_user_id</th>\n",
       "      <th>task_output.answer</th>\n",
       "      <th>answer</th>\n",
       "      <th>eval</th>\n",
       "    </tr>\n",
       "  </thead>\n",
       "  <tbody>\n",
       "    <tr>\n",
       "      <th>0</th>\n",
       "      <td>img_4686</td>\n",
       "      <td>annotator_12</td>\n",
       "      <td>no</td>\n",
       "      <td>no</td>\n",
       "      <td>correct</td>\n",
       "    </tr>\n",
       "    <tr>\n",
       "      <th>1</th>\n",
       "      <td>img_4686</td>\n",
       "      <td>annotator_11</td>\n",
       "      <td>no</td>\n",
       "      <td>no</td>\n",
       "      <td>correct</td>\n",
       "    </tr>\n",
       "    <tr>\n",
       "      <th>2</th>\n",
       "      <td>img_4686</td>\n",
       "      <td>annotator_22</td>\n",
       "      <td>no</td>\n",
       "      <td>no</td>\n",
       "      <td>correct</td>\n",
       "    </tr>\n",
       "    <tr>\n",
       "      <th>3</th>\n",
       "      <td>img_4686</td>\n",
       "      <td>annotator_17</td>\n",
       "      <td>no</td>\n",
       "      <td>no</td>\n",
       "      <td>correct</td>\n",
       "    </tr>\n",
       "    <tr>\n",
       "      <th>4</th>\n",
       "      <td>img_4686</td>\n",
       "      <td>annotator_02</td>\n",
       "      <td>no</td>\n",
       "      <td>no</td>\n",
       "      <td>correct</td>\n",
       "    </tr>\n",
       "    <tr>\n",
       "      <th>...</th>\n",
       "      <td>...</td>\n",
       "      <td>...</td>\n",
       "      <td>...</td>\n",
       "      <td>...</td>\n",
       "      <td>...</td>\n",
       "    </tr>\n",
       "    <tr>\n",
       "      <th>90865</th>\n",
       "      <td>img_2866</td>\n",
       "      <td>annotator_12</td>\n",
       "      <td>yes</td>\n",
       "      <td>yes</td>\n",
       "      <td>correct</td>\n",
       "    </tr>\n",
       "    <tr>\n",
       "      <th>90866</th>\n",
       "      <td>img_2866</td>\n",
       "      <td>annotator_16</td>\n",
       "      <td>yes</td>\n",
       "      <td>yes</td>\n",
       "      <td>correct</td>\n",
       "    </tr>\n",
       "    <tr>\n",
       "      <th>90867</th>\n",
       "      <td>img_2866</td>\n",
       "      <td>annotator_12</td>\n",
       "      <td>yes</td>\n",
       "      <td>yes</td>\n",
       "      <td>correct</td>\n",
       "    </tr>\n",
       "    <tr>\n",
       "      <th>90868</th>\n",
       "      <td>img_2866</td>\n",
       "      <td>annotator_04</td>\n",
       "      <td>yes</td>\n",
       "      <td>yes</td>\n",
       "      <td>correct</td>\n",
       "    </tr>\n",
       "    <tr>\n",
       "      <th>90869</th>\n",
       "      <td>img_2866</td>\n",
       "      <td>annotator_06</td>\n",
       "      <td>yes</td>\n",
       "      <td>yes</td>\n",
       "      <td>correct</td>\n",
       "    </tr>\n",
       "  </tbody>\n",
       "</table>\n",
       "<p>90870 rows × 5 columns</p>\n",
       "</div>"
      ],
      "text/plain": [
       "          image user.vendor_user_id task_output.answer answer     eval\n",
       "0      img_4686        annotator_12                 no     no  correct\n",
       "1      img_4686        annotator_11                 no     no  correct\n",
       "2      img_4686        annotator_22                 no     no  correct\n",
       "3      img_4686        annotator_17                 no     no  correct\n",
       "4      img_4686        annotator_02                 no     no  correct\n",
       "...         ...                 ...                ...    ...      ...\n",
       "90865  img_2866        annotator_12                yes    yes  correct\n",
       "90866  img_2866        annotator_16                yes    yes  correct\n",
       "90867  img_2866        annotator_12                yes    yes  correct\n",
       "90868  img_2866        annotator_04                yes    yes  correct\n",
       "90869  img_2866        annotator_06                yes    yes  correct\n",
       "\n",
       "[90870 rows x 5 columns]"
      ]
     },
     "execution_count": 43,
     "metadata": {},
     "output_type": "execute_result"
    }
   ],
   "source": [
    "# Comparing and evaluating\n",
    "answers = df[[\"image\",\"user.vendor_user_id\",\"task_output.answer\"]]\n",
    "answers = answers.merge(df1, how= \"inner\", on= \"image\")\n",
    "answers[\"eval\"] = answers.apply(lambda x: \"correct\" if x[\"task_output.answer\"] == x[\"answer\"] else \"incorrect\", axis = 1)\n",
    "answers"
   ]
  },
  {
   "cell_type": "code",
   "execution_count": 32,
   "metadata": {},
   "outputs": [],
   "source": [
    "eval_df = answers[[\"user.vendor_user_id\",\"eval\",\"answer\"]].groupby([\"user.vendor_user_id\",\"eval\"]).count()\\\n",
    "       .rename(columns = {\"answer\":\"count\"})"
   ]
  },
  {
   "cell_type": "code",
   "execution_count": 33,
   "metadata": {},
   "outputs": [
    {
     "data": {
      "text/html": [
       "<div>\n",
       "<style scoped>\n",
       "    .dataframe tbody tr th:only-of-type {\n",
       "        vertical-align: middle;\n",
       "    }\n",
       "\n",
       "    .dataframe tbody tr th {\n",
       "        vertical-align: top;\n",
       "    }\n",
       "\n",
       "    .dataframe thead th {\n",
       "        text-align: right;\n",
       "    }\n",
       "</style>\n",
       "<table border=\"1\" class=\"dataframe\">\n",
       "  <thead>\n",
       "    <tr style=\"text-align: right;\">\n",
       "      <th></th>\n",
       "      <th></th>\n",
       "      <th>count</th>\n",
       "      <th>relative_value</th>\n",
       "    </tr>\n",
       "    <tr>\n",
       "      <th>user.vendor_user_id</th>\n",
       "      <th>eval</th>\n",
       "      <th></th>\n",
       "      <th></th>\n",
       "    </tr>\n",
       "  </thead>\n",
       "  <tbody>\n",
       "    <tr>\n",
       "      <th rowspan=\"2\" valign=\"top\">annotator_01</th>\n",
       "      <th>correct</th>\n",
       "      <td>1214</td>\n",
       "      <td>94.843750</td>\n",
       "    </tr>\n",
       "    <tr>\n",
       "      <th>incorrect</th>\n",
       "      <td>66</td>\n",
       "      <td>5.156250</td>\n",
       "    </tr>\n",
       "    <tr>\n",
       "      <th rowspan=\"2\" valign=\"top\">annotator_02</th>\n",
       "      <th>correct</th>\n",
       "      <td>7101</td>\n",
       "      <td>93.483412</td>\n",
       "    </tr>\n",
       "    <tr>\n",
       "      <th>incorrect</th>\n",
       "      <td>495</td>\n",
       "      <td>6.516588</td>\n",
       "    </tr>\n",
       "    <tr>\n",
       "      <th rowspan=\"2\" valign=\"top\">annotator_03</th>\n",
       "      <th>correct</th>\n",
       "      <td>585</td>\n",
       "      <td>92.857143</td>\n",
       "    </tr>\n",
       "    <tr>\n",
       "      <th>incorrect</th>\n",
       "      <td>45</td>\n",
       "      <td>7.142857</td>\n",
       "    </tr>\n",
       "    <tr>\n",
       "      <th rowspan=\"2\" valign=\"top\">annotator_04</th>\n",
       "      <th>correct</th>\n",
       "      <td>5960</td>\n",
       "      <td>92.820433</td>\n",
       "    </tr>\n",
       "    <tr>\n",
       "      <th>incorrect</th>\n",
       "      <td>461</td>\n",
       "      <td>7.179567</td>\n",
       "    </tr>\n",
       "    <tr>\n",
       "      <th rowspan=\"2\" valign=\"top\">annotator_05</th>\n",
       "      <th>correct</th>\n",
       "      <td>3256</td>\n",
       "      <td>93.697842</td>\n",
       "    </tr>\n",
       "    <tr>\n",
       "      <th>incorrect</th>\n",
       "      <td>219</td>\n",
       "      <td>6.302158</td>\n",
       "    </tr>\n",
       "    <tr>\n",
       "      <th rowspan=\"2\" valign=\"top\">annotator_06</th>\n",
       "      <th>correct</th>\n",
       "      <td>4945</td>\n",
       "      <td>92.655050</td>\n",
       "    </tr>\n",
       "    <tr>\n",
       "      <th>incorrect</th>\n",
       "      <td>392</td>\n",
       "      <td>7.344950</td>\n",
       "    </tr>\n",
       "    <tr>\n",
       "      <th rowspan=\"2\" valign=\"top\">annotator_07</th>\n",
       "      <th>correct</th>\n",
       "      <td>1990</td>\n",
       "      <td>91.494253</td>\n",
       "    </tr>\n",
       "    <tr>\n",
       "      <th>incorrect</th>\n",
       "      <td>185</td>\n",
       "      <td>8.505747</td>\n",
       "    </tr>\n",
       "    <tr>\n",
       "      <th rowspan=\"2\" valign=\"top\">annotator_08</th>\n",
       "      <th>correct</th>\n",
       "      <td>5878</td>\n",
       "      <td>89.918923</td>\n",
       "    </tr>\n",
       "    <tr>\n",
       "      <th>incorrect</th>\n",
       "      <td>659</td>\n",
       "      <td>10.081077</td>\n",
       "    </tr>\n",
       "    <tr>\n",
       "      <th rowspan=\"2\" valign=\"top\">annotator_09</th>\n",
       "      <th>correct</th>\n",
       "      <td>4536</td>\n",
       "      <td>93.333333</td>\n",
       "    </tr>\n",
       "    <tr>\n",
       "      <th>incorrect</th>\n",
       "      <td>324</td>\n",
       "      <td>6.666667</td>\n",
       "    </tr>\n",
       "    <tr>\n",
       "      <th rowspan=\"2\" valign=\"top\">annotator_10</th>\n",
       "      <th>correct</th>\n",
       "      <td>280</td>\n",
       "      <td>88.888889</td>\n",
       "    </tr>\n",
       "    <tr>\n",
       "      <th>incorrect</th>\n",
       "      <td>35</td>\n",
       "      <td>11.111111</td>\n",
       "    </tr>\n",
       "    <tr>\n",
       "      <th rowspan=\"2\" valign=\"top\">annotator_11</th>\n",
       "      <th>correct</th>\n",
       "      <td>6026</td>\n",
       "      <td>93.629584</td>\n",
       "    </tr>\n",
       "    <tr>\n",
       "      <th>incorrect</th>\n",
       "      <td>410</td>\n",
       "      <td>6.370416</td>\n",
       "    </tr>\n",
       "    <tr>\n",
       "      <th rowspan=\"2\" valign=\"top\">annotator_12</th>\n",
       "      <th>correct</th>\n",
       "      <td>5774</td>\n",
       "      <td>92.979066</td>\n",
       "    </tr>\n",
       "    <tr>\n",
       "      <th>incorrect</th>\n",
       "      <td>436</td>\n",
       "      <td>7.020934</td>\n",
       "    </tr>\n",
       "    <tr>\n",
       "      <th rowspan=\"2\" valign=\"top\">annotator_13</th>\n",
       "      <th>correct</th>\n",
       "      <td>6702</td>\n",
       "      <td>94.687765</td>\n",
       "    </tr>\n",
       "    <tr>\n",
       "      <th>incorrect</th>\n",
       "      <td>376</td>\n",
       "      <td>5.312235</td>\n",
       "    </tr>\n",
       "    <tr>\n",
       "      <th rowspan=\"2\" valign=\"top\">annotator_14</th>\n",
       "      <th>correct</th>\n",
       "      <td>1633</td>\n",
       "      <td>94.666667</td>\n",
       "    </tr>\n",
       "    <tr>\n",
       "      <th>incorrect</th>\n",
       "      <td>92</td>\n",
       "      <td>5.333333</td>\n",
       "    </tr>\n",
       "    <tr>\n",
       "      <th rowspan=\"2\" valign=\"top\">annotator_15</th>\n",
       "      <th>correct</th>\n",
       "      <td>5774</td>\n",
       "      <td>94.842313</td>\n",
       "    </tr>\n",
       "    <tr>\n",
       "      <th>incorrect</th>\n",
       "      <td>314</td>\n",
       "      <td>5.157687</td>\n",
       "    </tr>\n",
       "    <tr>\n",
       "      <th rowspan=\"2\" valign=\"top\">annotator_16</th>\n",
       "      <th>correct</th>\n",
       "      <td>4769</td>\n",
       "      <td>94.230389</td>\n",
       "    </tr>\n",
       "    <tr>\n",
       "      <th>incorrect</th>\n",
       "      <td>292</td>\n",
       "      <td>5.769611</td>\n",
       "    </tr>\n",
       "    <tr>\n",
       "      <th rowspan=\"2\" valign=\"top\">annotator_17</th>\n",
       "      <th>correct</th>\n",
       "      <td>3283</td>\n",
       "      <td>94.203730</td>\n",
       "    </tr>\n",
       "    <tr>\n",
       "      <th>incorrect</th>\n",
       "      <td>202</td>\n",
       "      <td>5.796270</td>\n",
       "    </tr>\n",
       "    <tr>\n",
       "      <th rowspan=\"2\" valign=\"top\">annotator_18</th>\n",
       "      <th>correct</th>\n",
       "      <td>4841</td>\n",
       "      <td>93.636364</td>\n",
       "    </tr>\n",
       "    <tr>\n",
       "      <th>incorrect</th>\n",
       "      <td>329</td>\n",
       "      <td>6.363636</td>\n",
       "    </tr>\n",
       "    <tr>\n",
       "      <th rowspan=\"2\" valign=\"top\">annotator_19</th>\n",
       "      <th>correct</th>\n",
       "      <td>161</td>\n",
       "      <td>94.705882</td>\n",
       "    </tr>\n",
       "    <tr>\n",
       "      <th>incorrect</th>\n",
       "      <td>9</td>\n",
       "      <td>5.294118</td>\n",
       "    </tr>\n",
       "    <tr>\n",
       "      <th rowspan=\"2\" valign=\"top\">annotator_20</th>\n",
       "      <th>correct</th>\n",
       "      <td>5809</td>\n",
       "      <td>94.825335</td>\n",
       "    </tr>\n",
       "    <tr>\n",
       "      <th>incorrect</th>\n",
       "      <td>317</td>\n",
       "      <td>5.174665</td>\n",
       "    </tr>\n",
       "    <tr>\n",
       "      <th rowspan=\"2\" valign=\"top\">annotator_21</th>\n",
       "      <th>correct</th>\n",
       "      <td>2773</td>\n",
       "      <td>94.000000</td>\n",
       "    </tr>\n",
       "    <tr>\n",
       "      <th>incorrect</th>\n",
       "      <td>177</td>\n",
       "      <td>6.000000</td>\n",
       "    </tr>\n",
       "    <tr>\n",
       "      <th rowspan=\"2\" valign=\"top\">annotator_22</th>\n",
       "      <th>correct</th>\n",
       "      <td>1644</td>\n",
       "      <td>94.212034</td>\n",
       "    </tr>\n",
       "    <tr>\n",
       "      <th>incorrect</th>\n",
       "      <td>101</td>\n",
       "      <td>5.787966</td>\n",
       "    </tr>\n",
       "  </tbody>\n",
       "</table>\n",
       "</div>"
      ],
      "text/plain": [
       "                               count  relative_value\n",
       "user.vendor_user_id eval                            \n",
       "annotator_01        correct     1214       94.843750\n",
       "                    incorrect     66        5.156250\n",
       "annotator_02        correct     7101       93.483412\n",
       "                    incorrect    495        6.516588\n",
       "annotator_03        correct      585       92.857143\n",
       "                    incorrect     45        7.142857\n",
       "annotator_04        correct     5960       92.820433\n",
       "                    incorrect    461        7.179567\n",
       "annotator_05        correct     3256       93.697842\n",
       "                    incorrect    219        6.302158\n",
       "annotator_06        correct     4945       92.655050\n",
       "                    incorrect    392        7.344950\n",
       "annotator_07        correct     1990       91.494253\n",
       "                    incorrect    185        8.505747\n",
       "annotator_08        correct     5878       89.918923\n",
       "                    incorrect    659       10.081077\n",
       "annotator_09        correct     4536       93.333333\n",
       "                    incorrect    324        6.666667\n",
       "annotator_10        correct      280       88.888889\n",
       "                    incorrect     35       11.111111\n",
       "annotator_11        correct     6026       93.629584\n",
       "                    incorrect    410        6.370416\n",
       "annotator_12        correct     5774       92.979066\n",
       "                    incorrect    436        7.020934\n",
       "annotator_13        correct     6702       94.687765\n",
       "                    incorrect    376        5.312235\n",
       "annotator_14        correct     1633       94.666667\n",
       "                    incorrect     92        5.333333\n",
       "annotator_15        correct     5774       94.842313\n",
       "                    incorrect    314        5.157687\n",
       "annotator_16        correct     4769       94.230389\n",
       "                    incorrect    292        5.769611\n",
       "annotator_17        correct     3283       94.203730\n",
       "                    incorrect    202        5.796270\n",
       "annotator_18        correct     4841       93.636364\n",
       "                    incorrect    329        6.363636\n",
       "annotator_19        correct      161       94.705882\n",
       "                    incorrect      9        5.294118\n",
       "annotator_20        correct     5809       94.825335\n",
       "                    incorrect    317        5.174665\n",
       "annotator_21        correct     2773       94.000000\n",
       "                    incorrect    177        6.000000\n",
       "annotator_22        correct     1644       94.212034\n",
       "                    incorrect    101        5.787966"
      ]
     },
     "execution_count": 33,
     "metadata": {},
     "output_type": "execute_result"
    }
   ],
   "source": [
    "rel_values = eval_df.groupby(level=0).apply(lambda x: x['count'] / x['count'].sum()) # computing the relative correctness\n",
    "\n",
    "rv = []\n",
    "for i in rel_values:\n",
    "    rv.append(i*100)\n",
    "eval_df['relative_value'] = rv # adding the relative correctness to the evaluation dataframe\n",
    "eval_df"
   ]
  },
  {
   "cell_type": "code",
   "execution_count": 34,
   "metadata": {},
   "outputs": [
    {
     "data": {
      "text/plain": [
       "<AxesSubplot:xlabel='user.vendor_user_id'>"
      ]
     },
     "execution_count": 34,
     "metadata": {},
     "output_type": "execute_result"
    },
    {
     "data": {
      "image/png": "[encoded data removed]",
      "text/plain": [
       "<Figure size 842.4x595.44 with 1 Axes>"
      ]
     },
     "metadata": {},
     "output_type": "display_data"
    }
   ],
   "source": [
    "eval_df.unstack().plot(kind='bar', y =\"relative_value\", stacked=True)"
   ]
  },
  {
   "cell_type": "markdown",
   "metadata": {},
   "source": [
    "    We can say that among our 22 annotators, the worst one is annotator_10 followed by annotator_8. Annotator_1 is the best and the rest are fairly close. These results are in terms of relative correctness among each annotator's total answers"
   ]
  }
 ],
 "metadata": {
  "kernelspec": {
   "display_name": "Python 3",
   "language": "python",
   "name": "python3"
  },
  "language_info": {
   "codemirror_mode": {
    "name": "ipython",
    "version": 3
   },
   "file_extension": ".py",
   "mimetype": "text/x-python",
   "name": "python",
   "nbconvert_exporter": "python",
   "pygments_lexer": "ipython3",
   "version": "3.8.5"
  }
 },
 "nbformat": 4,
 "nbformat_minor": 4
}
